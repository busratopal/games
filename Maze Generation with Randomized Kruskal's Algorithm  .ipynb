{
 "cells": [
  {
   "cell_type": "code",
   "execution_count": 4,
   "metadata": {},
   "outputs": [
    {
     "data": {
      "image/png": "[encoded data removed]",
      "text/plain": [
       "<Figure size 1080x720 with 1 Axes>"
      ]
     },
     "metadata": {},
     "output_type": "display_data"
    }
   ],
   "source": [
    "################################################################################\n",
    "#        Maze Generation with Randomized Kruskal's Algorithm                   #\n",
    "################################################################################\n",
    "\n",
    "import numpy as np\n",
    "import matplotlib.pyplot as plt\n",
    "import random\n",
    "\n",
    "def kruskal(row,col):\n",
    "    \n",
    "    walldict={} #dictionary contains all walls in maze\n",
    "    celldict={} #dictionary contains all value of cells in maze\n",
    "    idlist={} #id's of cells\n",
    "    counter=0\n",
    "    \n",
    "    for r in range(row):\n",
    "        for c in range(col):\n",
    "            \n",
    "            if(c+1<col):#borders will drawn later \n",
    "                walldict[((r,c),(r,c+1))]=1 #first tuple consists of left cell\n",
    "                #of wall, second tuple consists of right cell of wall\n",
    "                \n",
    "            if(r+1<row):#borders will drawn later\n",
    "                walldict[((r,c),(r+1,c))]=1#first tuple consists of upper cell\n",
    "                #of wall second tuple consists of lower cell of wall\n",
    "                \n",
    "            celldict[(r,c)]=counter #assign values to all cells \n",
    "            idlist[counter]=[(r,c)] #every cell has id\n",
    "            counter+=1\n",
    "            \n",
    "    allwall=[]\n",
    "    allwall=list(walldict.keys())\n",
    "    \n",
    "    while(len(allwall)>0):\n",
    "        wall=random.choice(allwall) #to randomize \n",
    "        allwall.pop(allwall.index(wall)) # delete the used wall from list\n",
    "        (cell1,cell2)=wall\n",
    "        id1=celldict[cell1]\n",
    "        id2=celldict[cell2]\n",
    "        \n",
    "        if id1<id2: #compare the values of cells\n",
    "            walldict[wall]=0 # id id1 smaller than id2, remove wall\n",
    "            #(between cell1-cell2) from maze\n",
    "            for cell in idlist[id2]: #repeat for each cell in idList[id2]\n",
    "                idlist[id1].append(cell) #add cell to idList[id1]\n",
    "                celldict[cell]=id1 #new value of cell is value of id1\n",
    "            idlist[id2]=[] #set idlist[id2] as empty\n",
    "        #The algorithm finishes when all cell values are equal. This value is\n",
    "            #smallest value of cells( it is zero here) \n",
    "\n",
    "    Z = np.zeros((2*row+1, 2*col+1), dtype=bool) # zero matrix for board\n",
    "    # Fill borders\n",
    "    Z[0,:] = Z[-1,:] = 1\n",
    "    Z[:,0] = Z[:,-1] = 1\n",
    "\n",
    "    #Display settings\n",
    "    for keys in walldict.keys():\n",
    "        \n",
    "        ((a,b),(c,d))=keys \n",
    "        Z[2*a,2*b]=1 #walls set as cell, so the size of board is double of the\n",
    "        #cell size \n",
    "        \n",
    "        if walldict[keys]==1:\n",
    "            Z[a+c+1,b+d+1]=1 #walls\n",
    "\n",
    "        else:\n",
    "            Z[a+c+1,b+d+1]=0 #path\n",
    "\n",
    "    Z[1,0]=0 #start point of maze\n",
    "    Z[2*row-2,2*col-2]=1\n",
    "    Z[2*row-1,2*col]=0 #destination\n",
    "    return Z\n",
    "\n",
    "row=50\n",
    "col=70\n",
    " \n",
    "plt.figure(figsize=(15,10))\n",
    "plt.imshow(kruskal(row,col),cmap=plt.cm.binary,interpolation='nearest')\n",
    "plt.xticks([]),plt.yticks([])\n",
    "plt.show()\n",
    "\n",
    "\n",
    "#This algorihm requires storage proportional to the size of the entire maze.\n",
    "#It generates perfect maze that always has a solution.\n",
    "\n"
   ]
  },
  {
   "cell_type": "code",
   "execution_count": null,
   "metadata": {},
   "outputs": [],
   "source": []
  }
 ],
 "metadata": {
  "kernelspec": {
   "display_name": "Python 3",
   "language": "python",
   "name": "python3"
  },
  "language_info": {
   "codemirror_mode": {
    "name": "ipython",
    "version": 3
   },
   "file_extension": ".py",
   "mimetype": "text/x-python",
   "name": "python",
   "nbconvert_exporter": "python",
   "pygments_lexer": "ipython3",
   "version": "3.8.5"
  }
 },
 "nbformat": 4,
 "nbformat_minor": 4
}
